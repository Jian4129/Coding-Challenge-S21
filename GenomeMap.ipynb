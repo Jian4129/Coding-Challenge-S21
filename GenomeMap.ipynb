{
 "cells": [
  {
   "cell_type": "code",
   "execution_count": 2,
   "metadata": {},
   "outputs": [],
   "source": [
    "from Bio import SeqIO"
   ]
  },
  {
   "cell_type": "code",
   "execution_count": 4,
   "metadata": {},
   "outputs": [],
   "source": [
    "gb_file = \"Genome.gb\""
   ]
  },
  {
   "cell_type": "code",
   "execution_count": 5,
   "metadata": {},
   "outputs": [],
   "source": [
    "gb_record = SeqIO.read(open(gb_file,\"r\"), \"genbank\")"
   ]
  },
  {
   "cell_type": "code",
   "execution_count": 90,
   "metadata": {},
   "outputs": [],
   "source": [
    "from PIL import Image, ImageDraw, ImageFont\n",
    "w = h = 520\n",
    "font=ImageFont.truetype(\"consola.ttf\", 28, encoding=\"unic\")\n",
    "color = {'A':'red', 'T':'blue', 'C':'green', 'G':'orange'}"
   ]
  },
  {
   "cell_type": "code",
   "execution_count": 91,
   "metadata": {},
   "outputs": [],
   "source": [
    "genomeMap = Image.new(\"RGB\", (w, h), 'white')\n",
    "draw = ImageDraw.Draw(genomeMap)\n",
    "\n",
    "divide = gb_record.features[0].location.nofuzzy_end + (len(gb_record.features)-2)*10"
   ]
  },
  {
   "cell_type": "code",
   "execution_count": 92,
   "metadata": {},
   "outputs": [],
   "source": [
    "startBox=(0, 0)\n",
    "endBox = (w, h)\n",
    "\n",
    "i=0\n",
    "parts = 360/divide\n",
    "width = 20\n",
    "for gb_feature in gb_record.features[1:]:\n",
    "    draw.text((i*parts, (i+1)*parts), gb_feature.qualifiers['locus_tag'][0], 'black', font)\n",
    "    start = gb_feature.location.nofuzzy_start\n",
    "    end = gb_feature.location.nofuzzy_end\n",
    "    for x in gb_record.seq[start:end]:\n",
    "        draw.arc([startBox, endBox], i*parts, (i+1)*parts, fill=color[x], width=width)\n",
    "        i=i+1\n",
    "    for y in range(0,10):\n",
    "        draw.arc([startBox, endBox], i*parts, (i+1)*parts, fill='white', width=width)\n",
    "        i=i+1"
   ]
  },
  {
   "cell_type": "code",
   "execution_count": 93,
   "metadata": {},
   "outputs": [],
   "source": [
    "genomeMap.show()"
   ]
  },
  {
   "cell_type": "code",
   "execution_count": 94,
   "metadata": {},
   "outputs": [],
   "source": [
    "genomeMap.save(\"Genome_Map.jpg\")"
   ]
  }
 ],
 "metadata": {
  "kernelspec": {
   "display_name": "Python 3",
   "language": "python",
   "name": "python3"
  },
  "language_info": {
   "codemirror_mode": {
    "name": "ipython",
    "version": 3
   },
   "file_extension": ".py",
   "mimetype": "text/x-python",
   "name": "python",
   "nbconvert_exporter": "python",
   "pygments_lexer": "ipython3",
   "version": "3.8.5"
  }
 },
 "nbformat": 4,
 "nbformat_minor": 4
}
