{
 "cells": [
  {
   "cell_type": "code",
   "execution_count": 1,
   "metadata": {},
   "outputs": [],
   "source": [
    "from Bio import SeqIO"
   ]
  },
  {
   "cell_type": "code",
   "execution_count": 3,
   "metadata": {},
   "outputs": [
    {
     "data": {
      "text/plain": [
       "'\\nfor gb_record in SeqIO.parse(open(gb_file,\"r\"), \"genbank\") :\\n    # now do something with the record\\n    print (\"Name %s, %i features\" % (gb_record.name, len(gb_record.features)))\\n    print (repr(gb_record.seq))\\n\\n'"
      ]
     },
     "execution_count": 3,
     "metadata": {},
     "output_type": "execute_result"
    }
   ],
   "source": [
    "gb_file = \"Genome.gb\"\n",
    "'''\n",
    "for gb_record in SeqIO.parse(open(gb_file,\"r\"), \"genbank\") :\n",
    "    # now do something with the record\n",
    "    print (\"Name %s, %i features\" % (gb_record.name, len(gb_record.features)))\n",
    "    print (repr(gb_record.seq))\n",
    "\n",
    "'''\n"
   ]
  },
  {
   "cell_type": "code",
   "execution_count": 4,
   "metadata": {},
   "outputs": [
    {
     "name": "stdout",
     "output_type": "stream",
     "text": [
      "Name NC_004675, 11 features\n",
      "Seq('ACCGGATGGCCGTGCCCCCAAAAAAAAGTGGTCCCCACGCACTATTTTATGTCG...ATT')\n"
     ]
    }
   ],
   "source": [
    "gb_record = SeqIO.read(open(gb_file,\"r\"), \"genbank\")\n",
    "print(\"Name %s, %i features\" % (gb_record.name, len(gb_record.features)))\n",
    "print(repr(gb_record.seq))"
   ]
  },
  {
   "cell_type": "code",
   "execution_count": 5,
   "metadata": {},
   "outputs": [
    {
     "name": "stdout",
     "output_type": "stream",
     "text": [
      "type: source\n",
      "location: [0:2766](+)\n",
      "qualifiers:\n",
      "    Key: country, Value: ['South Africa']\n",
      "    Key: db_xref, Value: ['taxon:128941']\n",
      "    Key: mol_type, Value: ['genomic DNA']\n",
      "    Key: organism, Value: ['Tomato curly stunt virus']\n",
      "\n"
     ]
    }
   ],
   "source": [
    "gb_feature = gb_record.features[0]\n",
    "print(gb_feature)"
   ]
  },
  {
   "cell_type": "code",
   "execution_count": 6,
   "metadata": {},
   "outputs": [
    {
     "name": "stdout",
     "output_type": "stream",
     "text": [
      "<bound method Seq.reverse_complement of Seq('ACCGGATGGCCGTGCCCCCAAAAAAAAGTGGTCCCCACGCACTATTTTATGTCG...ATT')>\n"
     ]
    }
   ],
   "source": [
    "start = gb_feature.location.nofuzzy_start\n",
    "end = gb_feature.location.nofuzzy_end\n",
    "print(gb_record.seq[start:end].reverse_complement)"
   ]
  },
  {
   "cell_type": "code",
   "execution_count": 7,
   "metadata": {},
   "outputs": [],
   "source": [
    "# https://warwick.ac.uk/fac/sci/moac/people/students/peter_cock/python/genbank\n",
    "def index_genbank_features(gb_record, feature_type, qualifier) :\n",
    "    answer = dict()\n",
    "    for (index, feature) in enumerate(gb_record.features) :\n",
    "        if feature.type==feature_type :\n",
    "            if qualifier in feature.qualifiers :\n",
    "                #There should only be one locus_tag per feature, but there\n",
    "                #are usually several db_xref entries\n",
    "                for value in feature.qualifiers[qualifier] :\n",
    "                    if value in answer :\n",
    "                        print (\"WARNING - Duplicate key %s for %s features %i and %i\" \\\n",
    "                           % (value, feature_type, answer[value], index))\n",
    "                    else :\n",
    "                        answer[value] = index\n",
    "    return answer"
   ]
  },
  {
   "cell_type": "code",
   "execution_count": 8,
   "metadata": {},
   "outputs": [
    {
     "name": "stdout",
     "output_type": "stream",
     "text": [
      "6\n"
     ]
    }
   ],
   "source": [
    "locus_tag_cds_index = index_genbank_features(gb_record,\"CDS\",\"locus_tag\")\n",
    "print (locus_tag_cds_index[\"ToCSVgp3\"])"
   ]
  },
  {
   "cell_type": "code",
   "execution_count": 9,
   "metadata": {},
   "outputs": [
    {
     "name": "stdout",
     "output_type": "stream",
     "text": [
      "['ToCSVgp1']\n",
      "['ToCSVgp1']\n",
      "['ToCSVgp2']\n",
      "['ToCSVgp2']\n",
      "['ToCSVgp3']\n",
      "['ToCSVgp3']\n",
      "['ToCSVgp4']\n",
      "['ToCSVgp4']\n",
      "['ToCSVgp5']\n",
      "['ToCSVgp5']\n"
     ]
    }
   ],
   "source": [
    "for feature in gb_record.features:\n",
    "    if \"locus_tag\" in feature.qualifiers :\n",
    "        print(feature.qualifiers['locus_tag'])"
   ]
  },
  {
   "cell_type": "code",
   "execution_count": 84,
   "metadata": {},
   "outputs": [],
   "source": [
    "from PIL import Image, ImageDraw, ImageFont\n",
    "\n",
    "w = h = 520\n",
    "font=ImageFont.truetype(\"consola.ttf\", 28, encoding=\"unic\")"
   ]
  },
  {
   "cell_type": "code",
   "execution_count": 95,
   "metadata": {},
   "outputs": [],
   "source": [
    "genomeMap = Image.new(\"RGB\", (w, h), 'white')\n",
    "draw = ImageDraw.Draw(genomeMap)\n",
    "shape = [(0.0, 0), (250.0, 520)]\n",
    "draw.arc(shape,0, 360, fill='black', width=10)\n",
    "draw.line(shape, fill='blue', width=5)\n",
    "genomeMap.show()"
   ]
  },
  {
   "cell_type": "code",
   "execution_count": null,
   "metadata": {},
   "outputs": [],
   "source": [
    "color = ['red', 'blue', 'green', 'orange']\n"
   ]
  }
 ],
 "metadata": {
  "kernelspec": {
   "display_name": "Python 3",
   "language": "python",
   "name": "python3"
  },
  "language_info": {
   "codemirror_mode": {
    "name": "ipython",
    "version": 3
   },
   "file_extension": ".py",
   "mimetype": "text/x-python",
   "name": "python",
   "nbconvert_exporter": "python",
   "pygments_lexer": "ipython3",
   "version": "3.8.5"
  }
 },
 "nbformat": 4,
 "nbformat_minor": 4
}
